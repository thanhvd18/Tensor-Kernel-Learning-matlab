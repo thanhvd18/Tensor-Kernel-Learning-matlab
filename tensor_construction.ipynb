{
 "cells": [
  {
   "cell_type": "code",
   "execution_count": 3,
   "metadata": {},
   "outputs": [
    {
     "name": "stdout",
     "output_type": "stream",
     "text": [
      "modality: MRI, shape: (231, 200)\n",
      "modality: GM, shape: (231, 200)\n",
      "modality: PET, shape: (231, 200)\n",
      "modality: CSF, shape: (231, 3)\n",
      "modality: SNP, shape: (231, 6244)\n",
      "X\n",
      "X_label\n",
      "y_label\n",
      "y\n"
     ]
    },
    {
     "data": {
      "text/plain": [
       "[None, None, None, None]"
      ]
     },
     "execution_count": 3,
     "metadata": {},
     "output_type": "execute_result"
    }
   ],
   "source": [
    "import os\n",
    "import numpy as np\n",
    "import pandas as pd\n",
    "from IPython.display import display\n",
    "from sklearn.preprocessing import LabelEncoder\n",
    "from sklearn.model_selection import train_test_split\n",
    "\n",
    "from utils import *\n",
    "\n",
    "data = read_data(\"AD_CN\")\n",
    "[print(f\"{k}\") for k, v in data.items()]"
   ]
  },
  {
   "cell_type": "code",
   "execution_count": 6,
   "metadata": {},
   "outputs": [
    {
     "name": "stdout",
     "output_type": "stream",
     "text": [
      "Accuracy 1: 0.7446808510638298\n",
      "======\n",
      "Accuracy 1: 0.8085106382978723\n",
      "======\n",
      "Accuracy 1: 0.8936170212765957\n",
      "======\n",
      "Accuracy 1: 0.8297872340425532\n",
      "======\n",
      "Accuracy 1: 0.5319148936170213\n",
      "======\n"
     ]
    }
   ],
   "source": [
    "# calculate unsupervised kernel \n",
    "# type of kernels: linear, poly, rbf, sigmoid\n",
    "\n",
    "import numpy as np\n",
    "import matplotlib.pyplot as plt\n",
    "from sklearn.model_selection import train_test_split\n",
    "from sklearn.ensemble import RandomForestClassifier\n",
    "from sklearn.metrics import accuracy_score\n",
    "from sklearn.metrics.pairwise import rbf_kernel,linear_kernel\n",
    "from sklearn.svm import SVC\n",
    "from sklearn.neighbors import KNeighborsClassifier\n",
    "from sklearn.linear_model import LogisticRegression\n",
    "\n",
    "\n",
    "classifier = 'SVM' # 'RF' or 'SVM' or 'KNN' or 'LR'\n",
    "for i in range(len(data['X'])):\n",
    "    X = data['X'][i]\n",
    "    y = data['y']\n",
    "    X_train, X_test, y_train, y_test = train_test_split(X, y, test_size=0.2, \n",
    "                                                        random_state=None)\n",
    "\n",
    "    if classifier == 'RF':\n",
    "        rf_classifier = RandomForestClassifier(n_estimators=100, random_state=42)\n",
    "        rf_classifier.fit(X_train, y_train)\n",
    "        y_pred = rf_classifier.predict(X_test)\n",
    "    elif classifier == 'SVM':\n",
    "        svm_classifier = SVC(kernel='linear')   \n",
    "        svm_classifier.fit(X_train, y_train)   \n",
    "        y_pred = svm_classifier.predict(X_test) \n",
    "    elif classifier == 'KNN':\n",
    "        knn_classifier = KNeighborsClassifier(n_neighbors=5)\n",
    "        knn_classifier.fit(X_train, y_train)\n",
    "        y_pred = knn_classifier.predict(X_test) \n",
    "    elif classifier == 'LR':\n",
    "        lr_classifier = LogisticRegression()\n",
    "        lr_classifier.fit(X_train, y_train)\n",
    "        y_pred = lr_classifier.predict(X_test)\n",
    "\n",
    "\n",
    "\n",
    "    # Calculate accuracy\n",
    "    accuracy = accuracy_score(y_test, y_pred)\n",
    "    print(\"Accuracy 1:\", accuracy)\n",
    "\n",
    "    print(\"======\")\n",
    "\n",
    "    K_train = linear_kernel(X_train, X_train)\n",
    "    K_test = linear_kernel(X_test, X_train)"
   ]
  },
  {
   "cell_type": "code",
   "execution_count": 5,
   "metadata": {},
   "outputs": [
    {
     "data": {
      "text/plain": [
       "()"
      ]
     },
     "execution_count": 5,
     "metadata": {},
     "output_type": "execute_result"
    }
   ],
   "source": [
    "y.shape"
   ]
  },
  {
   "cell_type": "code",
   "execution_count": 1,
   "metadata": {},
   "outputs": [
    {
     "ename": "ImportError",
     "evalue": "cannot import name 'cp_non_negative' from 'tensorly.decomposition' (c:\\Users\\thanh\\miniconda3\\envs\\thanh\\lib\\site-packages\\tensorly\\decomposition\\__init__.py)",
     "output_type": "error",
     "traceback": [
      "\u001b[1;31m---------------------------------------------------------------------------\u001b[0m",
      "\u001b[1;31mImportError\u001b[0m                               Traceback (most recent call last)",
      "Cell \u001b[1;32mIn[1], line 2\u001b[0m\n\u001b[0;32m      1\u001b[0m \u001b[38;5;28;01mimport\u001b[39;00m \u001b[38;5;21;01mtensorly\u001b[39;00m \u001b[38;5;28;01mas\u001b[39;00m \u001b[38;5;21;01mtl\u001b[39;00m\n\u001b[1;32m----> 2\u001b[0m \u001b[38;5;28;01mfrom\u001b[39;00m \u001b[38;5;21;01mtensorly\u001b[39;00m\u001b[38;5;21;01m.\u001b[39;00m\u001b[38;5;21;01mdecomposition\u001b[39;00m \u001b[38;5;28;01mimport\u001b[39;00m cp_non_negative\n\u001b[0;32m      4\u001b[0m \u001b[38;5;66;03m# Perform CP nonnegative decomposition\u001b[39;00m\n\u001b[0;32m      5\u001b[0m factors \u001b[38;5;241m=\u001b[39m cp_non_negative(tensor)\n",
      "\u001b[1;31mImportError\u001b[0m: cannot import name 'cp_non_negative' from 'tensorly.decomposition' (c:\\Users\\thanh\\miniconda3\\envs\\thanh\\lib\\site-packages\\tensorly\\decomposition\\__init__.py)"
     ]
    }
   ],
   "source": [
    "import tensorly as tl\n",
    "from tensorly.decomposition import cp_non_negative\n",
    "\n",
    "# Perform CP nonnegative decomposition\n",
    "factors = cp_non_negative(tensor)\n",
    "# tensorly CP conegative decomposition\n",
    "im"
   ]
  }
 ],
 "metadata": {
  "kernelspec": {
   "display_name": "thanh",
   "language": "python",
   "name": "python3"
  },
  "language_info": {
   "codemirror_mode": {
    "name": "ipython",
    "version": 3
   },
   "file_extension": ".py",
   "mimetype": "text/x-python",
   "name": "python",
   "nbconvert_exporter": "python",
   "pygments_lexer": "ipython3",
   "version": "3.9.18"
  }
 },
 "nbformat": 4,
 "nbformat_minor": 2
}
